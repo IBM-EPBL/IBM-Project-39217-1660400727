{
  "cells": [
    {
      "cell_type": "code",
      "execution_count": 1,
      "metadata": {
        "id": "xhPjTO6_4J54"
      },
      "outputs": [],
      "source": [
        "!pip install -q kaggle"
      ]
    },
    {
      "cell_type": "code",
      "execution_count": 2,
      "metadata": {
        "id": "E5h7GXbx4Kxq"
      },
      "outputs": [],
      "source": [
        "!mkdir ~/.kaggle # creating a kaggle directory"
      ]
    },
    {
      "cell_type": "code",
      "execution_count": 3,
      "metadata": {
        "id": "cKivbil04PAL"
      },
      "outputs": [],
      "source": [
        "!cp kaggle.json ~/.kaggle/  # copying json file to folder"
      ]
    },
    {
      "cell_type": "code",
      "execution_count": 4,
      "metadata": {
        "colab": {
          "base_uri": "https://localhost:8080/"
        },
        "id": "tsQ1OckEiODh",
        "outputId": "4ba86e98-0a2b-4336-e965-62b34dab83fe"
      },
      "outputs": [
        {
          "output_type": "stream",
          "name": "stdout",
          "text": [
            "Mounted at /content/drive\n"
          ]
        }
      ],
      "source": [
        "from google.colab import drive\n",
        "drive.mount('/content/drive')"
      ]
    },
    {
      "cell_type": "code",
      "execution_count": 5,
      "metadata": {
        "colab": {
          "base_uri": "https://localhost:8080/",
          "height": 36
        },
        "id": "don49Vj24ZV2",
        "outputId": "4dd80e72-260f-4b78-af56-d0b9316a2a01"
      },
      "outputs": [
        {
          "output_type": "execute_result",
          "data": {
            "text/plain": [
              "'/content'"
            ],
            "application/vnd.google.colaboratory.intrinsic+json": {
              "type": "string"
            }
          },
          "metadata": {},
          "execution_count": 5
        }
      ],
      "source": [
        "pwd"
      ]
    },
    {
      "cell_type": "code",
      "execution_count": 6,
      "metadata": {
        "id": "w-BesR6s4auP"
      },
      "outputs": [],
      "source": [
        "!chmod 600 ~/.kaggle/kaggle.json  # changing the permissions to json"
      ]
    },
    {
      "cell_type": "code",
      "execution_count": 7,
      "metadata": {
        "colab": {
          "base_uri": "https://localhost:8080/"
        },
        "id": "BiwcWcLA4e-N",
        "outputId": "3760a7d2-8f41-4b6a-9d7a-c3854c3c529c"
      },
      "outputs": [
        {
          "output_type": "stream",
          "name": "stdout",
          "text": [
            "Downloading ibm-airlines-data.zip to /content\n",
            "\r  0% 0.00/2.58M [00:00<?, ?B/s]\n",
            "\r100% 2.58M/2.58M [00:00<00:00, 170MB/s]\n"
          ]
        }
      ],
      "source": [
        "!kaggle datasets download -d bhagavathyvigneshm/ibm-airlines-data"
      ]
    },
    {
      "cell_type": "code",
      "execution_count": 8,
      "metadata": {
        "colab": {
          "base_uri": "https://localhost:8080/"
        },
        "id": "DEMUh9Er4mHb",
        "outputId": "6277f512-9568-416a-d017-1d08155f85fc"
      },
      "outputs": [
        {
          "output_type": "stream",
          "name": "stdout",
          "text": [
            "Archive:  /content/ibm-airlines-data.zip\n",
            "  inflating: Airports1.csv           \n",
            "  inflating: Countries1.csv          \n",
            "  inflating: Regions1.csv            \n"
          ]
        }
      ],
      "source": [
        "!unzip /content/ibm-airlines-data.zip"
      ]
    },
    {
      "cell_type": "code",
      "execution_count": null,
      "metadata": {
        "id": "30wdtaGE4rSi"
      },
      "outputs": [],
      "source": []
    }
  ],
  "metadata": {
    "colab": {
      "provenance": []
    },
    "kernelspec": {
      "display_name": "Python 3 (ipykernel)",
      "language": "python",
      "name": "python3"
    },
    "language_info": {
      "codemirror_mode": {
        "name": "ipython",
        "version": 3
      },
      "file_extension": ".py",
      "mimetype": "text/x-python",
      "name": "python",
      "nbconvert_exporter": "python",
      "pygments_lexer": "ipython3",
      "version": "3.9.12"
    }
  },
  "nbformat": 4,
  "nbformat_minor": 0
}